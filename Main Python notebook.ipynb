{
 "metadata": {
  "language_info": {
   "codemirror_mode": {
    "name": "ipython",
    "version": 3
   },
   "file_extension": ".py",
   "mimetype": "text/x-python",
   "name": "python",
   "nbconvert_exporter": "python",
   "pygments_lexer": "ipython3",
   "version": "3.8.5-final"
  },
  "orig_nbformat": 2,
  "kernelspec": {
   "name": "Python 3.8.5 32-bit",
   "display_name": "Python 3.8.5 32-bit",
   "metadata": {
    "interpreter": {
     "hash": "7a542ca580817fc4dd55327026e074e2fa0cd470fc5dee9350c2d8b13822db8d"
    }
   }
  }
 },
 "nbformat": 4,
 "nbformat_minor": 2,
 "cells": [
  {
   "source": [
    "# 9608/22/PRE/O/N/2020\n",
    "The block below declares the variables and arrays that are supposed to be pre-populated."
   ],
   "cell_type": "markdown",
   "metadata": {}
  },
  {
   "cell_type": "code",
   "execution_count": null,
   "metadata": {},
   "outputs": [],
   "source": [
    "ItemCode = [\"AA0001\", \"AB0056\", \"HG5557\", \"DC2568\", \"LK4458\"]\n",
    "ItemDescription = [\"Pencil\", \"Pen\", \"Notebook\", \"Ruler\", \"Compass\"]\n",
    "Price = [1.0, 10.0, 100.0, 20.0, 30.0]\n",
    "NumberInStock = [100, 100, 50, 20, 20]\n",
    "\n",
    "n = len(ItemCode)"
   ]
  },
  {
   "source": [
    "## TASK 1.4\n",
    "Write program code to produce a report displaying all the information stored about each item for which the number in stock is below a given level. The planning and identifier table are in the pasudocode file and the markdown respectively."
   ],
   "cell_type": "markdown",
   "metadata": {}
  },
  {
   "cell_type": "code",
   "execution_count": null,
   "metadata": {
    "tags": []
   },
   "outputs": [],
   "source": [
    "ThresholdLevel = int(input(\"Enter the minumum stock level: \"))\n",
    "\n",
    "for Counter in range(n):\n",
    "\n",
    "    if NumberInStock[Counter] < ThresholdLevel:\n",
    "        print(\"\\nItem Code:\", ItemCode[Counter])\n",
    "        print(\"Item Description:\", ItemDescription[Counter])\n",
    "        print(\"Price:\", Price[Counter])\n",
    "        print(\"Number in stock:\", NumberInStock[Counter])"
   ]
  },
  {
   "source": [
    "## TASK 2.2\n",
    "Design an algorithm to input the four pieces of data about a stock item, form a string according to your format design, and write the string to the text file. <br> First draw a program flowchart, then write the equivalent pseudocode."
   ],
   "cell_type": "markdown",
   "metadata": {}
  },
  {
   "cell_type": "code",
   "execution_count": null,
   "metadata": {},
   "outputs": [],
   "source": [
    "RecordsFile = \"Item Records.txt\"\n",
    "FileObject = open(RecordsFile, \"a+\")\n",
    "WriteString = \"\"\n",
    "\n",
    "NewItemCode = str(input(\"Enter item code: \"))\n",
    "WriteString = ':' + NewItemCode\n",
    "\n",
    "NewItemDescription = str(input(\"Enter item description: \"))\n",
    "WriteString += ':' + NewItemDescription\n",
    "\n",
    "NewPrice = float(input(\"Enter new price: \"))\n",
    "WriteString += ':' + str(NewPrice)\n",
    "\n",
    "NewNumberInStock = int(input(\"Enter the number of items in stock: \"))\n",
    "WriteString += ':' + str(NewNumberInStock) + '\\n'\n",
    "\n",
    "FileObject.write(WriteString)\n",
    "FileObject.close()"
   ]
  }
 ]
}