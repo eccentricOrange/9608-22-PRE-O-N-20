{
 "metadata": {
  "language_info": {
   "codemirror_mode": {
    "name": "ipython",
    "version": 3
   },
   "file_extension": ".py",
   "mimetype": "text/x-python",
   "name": "python",
   "nbconvert_exporter": "python",
   "pygments_lexer": "ipython3",
   "version": "3.8.5-final"
  },
  "orig_nbformat": 2,
  "kernelspec": {
   "name": "Python 3.8.5 32-bit",
   "display_name": "Python 3.8.5 32-bit",
   "metadata": {
    "interpreter": {
     "hash": "7a542ca580817fc4dd55327026e074e2fa0cd470fc5dee9350c2d8b13822db8d"
    }
   }
  }
 },
 "nbformat": 4,
 "nbformat_minor": 2,
 "cells": [
  {
   "source": [
    "# 9608/22/PRE/O/N/2020\n",
    "The cell below declares the variables and arrays that are supposed to be pre-populated."
   ],
   "cell_type": "markdown",
   "metadata": {}
  },
  {
   "cell_type": "code",
   "execution_count": null,
   "metadata": {},
   "outputs": [],
   "source": [
    "ItemCode = [\"1001\", \"6056\", \"5557\", \"2568\", \"4458\"]\n",
    "ItemDescription = [\"Pencil\", \"Pen\", \"Notebook\", \"Ruler\", \"Compass\"]\n",
    "Price = [1.0, 10.0, 100.0, 20.0, 30.0]\n",
    "NumberInStock = [100, 100, 50, 20, 20]\n",
    "\n",
    "n = len(ItemCode)"
   ]
  },
  {
   "source": [
    "## TASK 1.4\n",
    "Write program code to produce a report displaying all the information stored about each item for which the number in stock is below a given level. The planning and identifier table are in the pasudocode file and the markdown respectively."
   ],
   "cell_type": "markdown",
   "metadata": {}
  },
  {
   "cell_type": "code",
   "execution_count": null,
   "metadata": {
    "tags": []
   },
   "outputs": [],
   "source": [
    "ThresholdLevel = int(input(\"Enter the minumum stock level: \"))\n",
    "\n",
    "for Counter in range(n):\n",
    "\n",
    "    if NumberInStock[Counter] < ThresholdLevel:\n",
    "        print(\"\\nItem Code:\", ItemCode[Counter])\n",
    "        print(\"Item Description:\", ItemDescription[Counter])\n",
    "        print(\"Price:\", Price[Counter])\n",
    "        print(\"Number in stock:\", NumberInStock[Counter])"
   ]
  },
  {
   "source": [
    "## TASK 2.2\n",
    "Design an algorithm to input the four pieces of data about a stock item, form a string according to your format design, and write the string to the text file. <br> First draw a program flowchart, then write the equivalent pseudocode."
   ],
   "cell_type": "markdown",
   "metadata": {}
  },
  {
   "cell_type": "code",
   "execution_count": null,
   "metadata": {},
   "outputs": [],
   "source": [
    "RecordsFile = \"Item Records.txt\"\n",
    "FileObject = open(RecordsFile, \"a+\")\n",
    "WriteString = \"\"\n",
    "\n",
    "NewItemCode = int(input(\"\\nEnter item code: \"))\n",
    "WriteString = ':' + str(NewItemCode)\n",
    "\n",
    "NewItemDescription = str(input(\"Enter item description: \"))\n",
    "WriteString += ':' + NewItemDescription\n",
    "\n",
    "NewPrice = float(input(\"Enter new price: \"))\n",
    "WriteString += ':' + str(NewPrice)\n",
    "\n",
    "NewNumberInStock = int(input(\"Enter the number of items in stock: \"))\n",
    "WriteString += ':' + str(NewNumberInStock) + '\\n'\n",
    "\n",
    "FileObject.write(WriteString)\n",
    "FileObject.close()"
   ]
  },
  {
   "source": [
    "## TASK 2.4\n",
    "The cell below defines the sub-routines which will be used by more than of the tasks."
   ],
   "cell_type": "markdown",
   "metadata": {}
  },
  {
   "cell_type": "code",
   "execution_count": null,
   "metadata": {},
   "outputs": [],
   "source": [
    "def GetItemCode():\n",
    "    Valid = False\n",
    "\n",
    "    TestItemCode = int(input(\"Enter the code of the item: \"))\n",
    "\n",
    "    while not (TestItemCode > 1000 and TestItemCode < 9999):\n",
    "        TestItemCode = int(input(\"Re-enter the codeof the item: \"))\n",
    "    \n",
    "    return TestItemCode\n",
    "\n",
    "\n",
    "def ExtractDetails(RecordString, Details):\n",
    "    Position = 0\n",
    "    SearchString = RecordString + ':'\n",
    "\n",
    "    if RecordString != \"\":\n",
    "        for Counter in range(4):\n",
    "            Position += 1\n",
    "            CurrentCharacter = SearchString[Position : Position + 1]\n",
    "\n",
    "            while CurrentCharacter != ':':\n",
    "                Details[Counter] += CurrentCharacter\n",
    "                Position += 1\n",
    "                CurrentCharacter = SearchString[Position : Position + 1]"
   ]
  },
  {
   "source": [
    "## TASK 2.4 (1)\n",
    "Add a new stock item to the text file. Include validation of the different pieces of information as appropriate. For example item code data may be a fixed format."
   ],
   "cell_type": "markdown",
   "metadata": {}
  },
  {
   "cell_type": "code",
   "execution_count": null,
   "metadata": {},
   "outputs": [],
   "source": [
    "WriteString = \"\"\n",
    "WriteString = ':' + str(GetItemCode())\n",
    "\n",
    "NewItemDescription = str(input(\"\\nEnter item description: \"))\n",
    "WriteString += ':' + NewItemDescription\n",
    "\n",
    "NewPrice = float(input(\"Enter the price of the item: \"))\n",
    "WriteString += ':' + str(NewPrice)\n",
    "\n",
    "NewNumberInStock = int(input(\"Enter number of items in stock: \"))\n",
    "WriteString += ':' + str(NewNumberInStock) + '\\n'\n",
    "\n",
    "FileObject = open(RecordsFile, \"a+\")\n",
    "FileObject.write(WriteString)\n",
    "FileObject.close()"
   ]
  },
  {
   "source": [
    "## TASK 2.4 (2)\n",
    "Search for a stock item with a specific item code. Output the other pieces of data together with suitable supporting text."
   ],
   "cell_type": "markdown",
   "metadata": {}
  },
  {
   "cell_type": "code",
   "execution_count": null,
   "metadata": {
    "tags": []
   },
   "outputs": [],
   "source": [
    "Found = False\n",
    "CurrentRecord = \"\"\n",
    "\n",
    "print(\"\\nEnter the code of the item you want to search for\")\n",
    "DesiredItemCode = GetItemCode()\n",
    "\n",
    "FileObject = open(RecordsFile, \"r+\")\n",
    "FileData = (FileObject.read()).split('\\n')\n",
    "FileObject.close()\n",
    "\n",
    "for record in FileData:\n",
    "    CurrentRecord = record\n",
    "    if CurrentRecord[1:5] == str(DesiredItemCode):\n",
    "        Found = True\n",
    "        break\n",
    "\n",
    "if Found:\n",
    "    DetailsOfRecord = [\"\" for i in range(4)]\n",
    "    ExtractDetails(CurrentRecord, DetailsOfRecord)\n",
    "\n",
    "    print(\"\\nItem Code: \" + str(DetailsOfRecord[0]))\n",
    "    print(\"Item Description: \" + DetailsOfRecord[1])\n",
    "    print(\"Price of item: \" + str(DetailsOfRecord[2]))\n",
    "    print(\"Number of the item in stock: \" + str(DetailsOfRecord[3]))\n",
    "\n",
    "else:\n",
    "    print(\"Item not found.\")"
   ]
  },
  {
   "source": [
    "## TASK 2.4 (3)\n",
    "Search for all stock items with a specific item description, with output as for task 2."
   ],
   "cell_type": "markdown",
   "metadata": {}
  },
  {
   "cell_type": "code",
   "execution_count": null,
   "metadata": {},
   "outputs": [],
   "source": [
    "DesiredItemDescription = str(input(\"\\nEnter the description of the item you want to search for: \"))\n",
    "\n",
    "FileObject = open(RecordsFile, \"r+\")\n",
    "FileData = (FileObject.read()).split('\\n')\n",
    "FileObject.close()\n",
    "\n",
    "for record in FileData:\n",
    "    DetailsOfRecord = [\"\" for i in range(4)]\n",
    "    ExtractDetails(record, DetailsOfRecord)\n",
    "\n",
    "    if DetailsOfRecord[1] == DesiredItemDescription:\n",
    "        print(\"\\nItem Code: \" + str(DetailsOfRecord[0]))\n",
    "        print(\"Item Description: \" + DetailsOfRecord[1])\n",
    "        print(\"Price of item: \" + str(DetailsOfRecord[2]))\n",
    "        print(\"Number of the item in stock: \" + str(DetailsOfRecord[3]))"
   ]
  },
  {
   "source": [
    "## TASK 2.4 (4)\n",
    "Output a list of all stock items with a price greater than a given amount."
   ],
   "cell_type": "markdown",
   "metadata": {}
  },
  {
   "cell_type": "code",
   "execution_count": null,
   "metadata": {},
   "outputs": [],
   "source": [
    "DesiredPrice = float(input(\"\\nEnter the maximum threshold price: \"))\n",
    "\n",
    "FileObject = open(RecordsFile, \"r+\")\n",
    "FileData = (FileObject.read()).split('\\n')\n",
    "FileObject.close()\n",
    "\n",
    "for record in FileData:\n",
    "    DetailsOfRecord = [\"\" for i in range(4)]\n",
    "    ExtractDetails(record, DetailsOfRecord)\n",
    "\n",
    "    if float(DetailsOfRecord[2]) < DesiredPrice:\n",
    "        print(\"\\nItem Code: \" + str(DetailsOfRecord[0]))\n",
    "        print(\"Item Description: \" + DetailsOfRecord[1])\n",
    "        print(\"Price of item: \" + str(DetailsOfRecord[2]))\n",
    "        print(\"Number of the item in stock: \" + str(DetailsOfRecord[3]))"
   ]
  },
  {
   "source": [
    "# Standalone Compliled Program\n",
    "The above cells demonstrate how each individual aspect of each task works. The code in the cell below is for every task combined into one."
   ],
   "cell_type": "markdown",
   "metadata": {}
  },
  {
   "cell_type": "code",
   "execution_count": null,
   "metadata": {},
   "outputs": [],
   "source": []
  }
 ]
}